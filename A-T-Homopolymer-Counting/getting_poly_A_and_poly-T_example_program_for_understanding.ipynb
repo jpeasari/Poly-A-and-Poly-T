{
 "cells": [
  {
   "cell_type": "markdown",
   "metadata": {},
   "source": [
    "### Counting >=9 and only two mismatches allowed"
   ]
  },
  {
   "cell_type": "code",
   "execution_count": null,
   "metadata": {},
   "outputs": [],
   "source": [
    "## Example poly-A in a sequence: AAGAAAAAAAGCCG"
   ]
  },
  {
   "cell_type": "code",
   "execution_count": 1,
   "metadata": {},
   "outputs": [],
   "source": [
    "def counting(name,file_type):               ## Function that takes file_name, lst and file_type as arguments\n",
    "    file1 = open(name,\"r\")                  ## Eg: Opening wt_37-1_epat_5.txt for genotype singel_hits_plus_strand_e1-05_soc1_blastn_wt_37-1_epat_5.txt\n",
    "    re = open(\"poly-A_atleast_9_wt_37-1_epat.txt\",\"a\")\n",
    "    flag = 0    ## Initially, setting flag to 0\n",
    "    flag1 = 0   ## Initially, setting flag1 to 0\n",
    "    count = 0   ## Initially, setting count to 0, this is to store length of only A's\n",
    "    count1 = 0  ## Initially, setting count1 to 0, this is to store count of mismatches in poly-A. It cannot be more than 2.\n",
    "    j = 0       ## Initially, setting j to 0 for looping through each coordinate in a file\n",
    "    sq = ''     ## For storing poly-A characters\n",
    "    for line in file1:                    ## Eg: here we are opening wt_37-1_epat_5.txt (in fasta folder) of singel_hits_plus_strand_e1-05_soc1_blastn_wt_37-1_epat_5\n",
    "        line = line.split()               ## Converting each line in wt_37-1_epat_5.txt to a list.\n",
    "        if line[0][0]==\">\":               ## If line starts with \">\"\n",
    "            header = line[0]              ## Store >header in header variable\n",
    "#             x = lst[j]                  ## lst (pos_5 in function calling) is a list that contains coordinates to wt_37-1_epat_5.txt. lst[0] will points to first corrdinate for first sequence in \n",
    "            y = 118                       ## Here, we are using only one sequence. But changing poly-A in each other sequences\n",
    "#             j = j + 1                   ## Incrementing j to point to next coordinate in wt_37-1_epat_5.txt\n",
    "\n",
    "        else :\n",
    "            s = line[0]                  ## If line in Category_1.txt doesn't starts with \">\"\n",
    "            \n",
    "####################                     ## Then the program here starts looking for any poly-A in wt_37-1_epat_5.txt in the first sequences after specific coordinate value\n",
    "\n",
    "\n",
    "            while (y <= len(s)-1) :      ## While loop to loop from that ccordinate to end of the character \n",
    "\n",
    "                try :\n",
    "## To detect the continous A sequence even if starting index has other thatn a value\n",
    "                    if (s[y] == s[y + 1]==\"A\" and count == 0) :      ## If A is followed by A and count ==0: If--- AA\n",
    "                        sq = sq + s[y]                               ## Adding \"A\" to sq : sq = \"AA\"\n",
    "                        count = count+1                              ## If A is followed then count value becomes incremented by 1 : count = 1+1 = 2\n",
    "\n",
    "\n",
    "                    elif ( flag !=1  and count != 0 and count1 <=2): ## Else if A is followed by any letter (N) \n",
    "                        ### Do this, if count!=0 (poly-A) count1 <=2 (mismatch letters) and flag\n",
    "        ####   Below  conditions are used to count other value when come in between continous sequence (I.e 'A's) \n",
    "        #### Actually here, flag = 0 or !=1 (True), count = 2 or !=0 (True) and count1 = <=2 or =0 (True)\n",
    "                        if (s[y] != 'A'):         ## AA is folllowed by G, then this is true\n",
    "                            count1 = count1+1     ## Now, count1 = 0+1 = 1. For suppose if AA is followed by GG, then count1 becomes 2\n",
    "                            if count1 <3 :        ##  If count1 < 3, add the letter to sq variable (sq = \"AAG\")\n",
    "                                sq = sq + s[y]              \n",
    "\n",
    "                        else:                     ## Else meaning, if AAGA. That is, is A followed by A then by G then immediately A\n",
    "                            sq = sq + s[y]        ## Then, sq = \"AAGA\"\n",
    "                            count = count+1       ## count = 2 + 1 = 3\n",
    "\n",
    "                except IndexError :               ## This to handle index error if it is encountered\n",
    "                    if s[y] =='A' and flag != 1 :\n",
    "                        sq = sq + s[y]\n",
    "                        count = count+1\n",
    "                #### Now sq = \"AAGAAAAAAA\", count = 9 and count1 = 1\n",
    "\n",
    "                try:\n",
    "                    if s[y]==\"A\" and count+count1 == 12 and (s[y+1:y+13] ==\"CGCGGCCGCGGA\"):   ## If this is true, reverse primer condition\n",
    "                        sq = ''    ## Initialize sq to \"\"\n",
    "                        count = 0  ## Make count to 0\n",
    "                        flag = 0   ## Make flag to 0\n",
    "                        count1 =0  ## Make count1 to 0\n",
    "                        break\n",
    "                    elif  count + count1 >=9 and ( flag == 1 or  y == len(s)-1 ):            ## Else, print all the values when, count (only_A) + count1 (2 mismatches) >=9 and if flag==1 or y reach to end of the character in the sequence\n",
    "                        \n",
    "                        #############################################################\n",
    "                        start_pos = y -count-count1                                   ## Storing start positon in a variable\n",
    "                        print(file_type,count+count1,header,y -count-count1,y)        ## Printing all the contents\n",
    "                        # Writing contents to a file\n",
    "                        re.write(header)      ## Sequence header\n",
    "                        re.write(\" \")         ## Space\n",
    "                        re.write(file_type)   ## Category_name\n",
    "                        re.write(\" \")         ## Space\n",
    "                        re.write((str(count+count1)))   ## Poly-A length\n",
    "                        re.write(\" \")                   ## Space\n",
    "                        re.write(str(start_pos))        ## Poly-A starting position\n",
    "                        re.write(\" \")                   ## Space\n",
    "                        re.write(str(y))                ## Poly-A end position\n",
    "                        re.write(\" \")                   ## Space\n",
    "                        re.write(\"\\n\")                  ## Next line\n",
    "                        #############################################################\n",
    "                        ## After printing everything, make all the contents to initial position for the next sequence\n",
    "                        sq = ''      ## Initialize sq to \"\"\n",
    "                        count = 0    ## Make count to 0\n",
    "                        flag = 0     ## Make flag to 0\n",
    "                        count1 =0    ## Make count1 to 0\n",
    "                        break\n",
    "                        \n",
    "                except IndexError :\n",
    "                    pass\n",
    "                ## Now the sq = \"AAGAAAAAAA\", then the rest sequence is \"AAGAAAAAAAGCCG\"\n",
    "                ## Here, s[y]=\"G\" and s[y+1]=\"C\" which is true\n",
    "                ## Then, s[y+1] !=\"A\" true and s[y+2] ! = \"A\" true and s[y+3]!=\"A\" true and count = 9 \n",
    "                try :\n",
    "                    if (s[y] != s[y+1] and s[y+1] != 'A' and s[y+2] != 'A'and s[y+3] !='A' and count !=0 ) or count1 > 2 :\n",
    "                        if count+count1 < 9 :     ## If total count is < 9, we will initialize all to initial values\n",
    "                            sq = ''\n",
    "                            flag =0\n",
    "                            count = 0\n",
    "                            count1 = 0 \n",
    "                        elif count1 >2 and count+count1 >9: ## If total count > 9 and count1 > 2 (Mismatch count value)\n",
    "                            flag = 1\n",
    "                            count1 = count1 -1\n",
    "                        else:\n",
    "                            flag = 1                ## Here, based on above conditions our flag becomes 1, meaning to stop counting as we encountered GCCG after poly-A\n",
    "                            \n",
    "                except IndexError : ## To handle index error if it is encountered\n",
    "                    if count1> 2 and count+count1 >9 :\n",
    "                        flag = 1\n",
    "                        count1 = count1 -1 \n",
    "                    elif  count+count1 > 9 :\n",
    "                        flag = 1\n",
    "\n",
    "\n",
    "    # Intitalize all the variable for next sequence .           \n",
    "                if y == len(s)-1 :  ## After reaching to the end of the character in the sequence\n",
    "                    count = 0       ## Initialize count =0, flag = 0 and count1 = 0 to move to continue with the next sequence\n",
    "                    flag = 0\n",
    "                    count1 =0\n",
    "\n",
    "                y = y + 1  \n",
    "    re.close()  \n",
    "    return 0\n"
   ]
  },
  {
   "cell_type": "code",
   "execution_count": 2,
   "metadata": {},
   "outputs": [
    {
     "name": "stdout",
     "output_type": "stream",
     "text": [
      "FP+UPSTREAM_3'UTR+BD+DOWNSTREAM_3'UTR 30 >M03997:68:000000000-G35DK:1:2102:14231:7572_Test_1 118 148\n",
      "FP+UPSTREAM_3'UTR+BD+DOWNSTREAM_3'UTR 29 >M03997:68:000000000-G35DK:1:2102:14231:7572_Test_2 118 147\n",
      "FP+UPSTREAM_3'UTR+BD+DOWNSTREAM_3'UTR 31 >M03997:68:000000000-G35DK:1:2102:14231:7572_Test_3 118 149\n",
      "FP+UPSTREAM_3'UTR+BD+DOWNSTREAM_3'UTR 31 >M03997:68:000000000-G35DK:1:2102:14231:7572_Test_4 118 149\n",
      "FP+UPSTREAM_3'UTR+BD+DOWNSTREAM_3'UTR 30 >M03997:68:000000000-G35DK:1:2102:14231:7572_Test_5 118 148\n",
      "FP+UPSTREAM_3'UTR+BD+DOWNSTREAM_3'UTR 31 >M03997:68:000000000-G35DK:1:2102:14231:7572_Test_6 118 149\n",
      "FP+UPSTREAM_3'UTR+BD+DOWNSTREAM_3'UTR 27 >M03997:68:000000000-G35DK:1:2102:14231:7572_Test_7 118 145\n"
     ]
    },
    {
     "ename": "IndexError",
     "evalue": "list index out of range",
     "output_type": "error",
     "traceback": [
      "\u001b[1;31m---------------------------------------------------------------------------\u001b[0m",
      "\u001b[1;31mIndexError\u001b[0m                                Traceback (most recent call last)",
      "\u001b[1;32m<ipython-input-2-3d83acd23456>\u001b[0m in \u001b[0;36m<module>\u001b[1;34m\u001b[0m\n\u001b[0;32m      2\u001b[0m \u001b[0mname\u001b[0m \u001b[1;33m=\u001b[0m \u001b[1;34m\"fasta/wt_37-1_epat_5.txt\"\u001b[0m\u001b[1;33m\u001b[0m\u001b[1;33m\u001b[0m\u001b[0m\n\u001b[0;32m      3\u001b[0m \u001b[0mfile_type\u001b[0m \u001b[1;33m=\u001b[0m \u001b[1;34m\"FP+UPSTREAM_3'UTR+BD+DOWNSTREAM_3'UTR\"\u001b[0m\u001b[1;33m\u001b[0m\u001b[1;33m\u001b[0m\u001b[0m\n\u001b[1;32m----> 4\u001b[1;33m \u001b[0mcounting\u001b[0m\u001b[1;33m(\u001b[0m\u001b[0mname\u001b[0m\u001b[1;33m,\u001b[0m\u001b[0mfile_type\u001b[0m\u001b[1;33m)\u001b[0m\u001b[1;33m\u001b[0m\u001b[1;33m\u001b[0m\u001b[0m\n\u001b[0m",
      "\u001b[1;32m<ipython-input-1-957fcac36ddf>\u001b[0m in \u001b[0;36mcounting\u001b[1;34m(name, file_type)\u001b[0m\n\u001b[0;32m     10\u001b[0m     \u001b[1;32mfor\u001b[0m \u001b[0mline\u001b[0m \u001b[1;32min\u001b[0m \u001b[0mfile1\u001b[0m\u001b[1;33m:\u001b[0m                    \u001b[1;31m## Eg: here we are opening wt_37-1_epat_5.txt (in fasta folder) of singel_hits_plus_strand_e1-05_soc1_blastn_wt_37-1_epat_5\u001b[0m\u001b[1;33m\u001b[0m\u001b[1;33m\u001b[0m\u001b[0m\n\u001b[0;32m     11\u001b[0m         \u001b[0mline\u001b[0m \u001b[1;33m=\u001b[0m \u001b[0mline\u001b[0m\u001b[1;33m.\u001b[0m\u001b[0msplit\u001b[0m\u001b[1;33m(\u001b[0m\u001b[1;33m)\u001b[0m               \u001b[1;31m## Converting each line in wt_37-1_epat_5.txt to a list.\u001b[0m\u001b[1;33m\u001b[0m\u001b[1;33m\u001b[0m\u001b[0m\n\u001b[1;32m---> 12\u001b[1;33m         \u001b[1;32mif\u001b[0m \u001b[0mline\u001b[0m\u001b[1;33m[\u001b[0m\u001b[1;36m0\u001b[0m\u001b[1;33m]\u001b[0m\u001b[1;33m[\u001b[0m\u001b[1;36m0\u001b[0m\u001b[1;33m]\u001b[0m\u001b[1;33m==\u001b[0m\u001b[1;34m\">\"\u001b[0m\u001b[1;33m:\u001b[0m               \u001b[1;31m## If line starts with \">\"\u001b[0m\u001b[1;33m\u001b[0m\u001b[1;33m\u001b[0m\u001b[0m\n\u001b[0m\u001b[0;32m     13\u001b[0m             \u001b[0mheader\u001b[0m \u001b[1;33m=\u001b[0m \u001b[0mline\u001b[0m\u001b[1;33m[\u001b[0m\u001b[1;36m0\u001b[0m\u001b[1;33m]\u001b[0m              \u001b[1;31m## Store >header in header variable\u001b[0m\u001b[1;33m\u001b[0m\u001b[1;33m\u001b[0m\u001b[0m\n\u001b[0;32m     14\u001b[0m \u001b[1;31m#             x = lst[j]                  ## lst (pos_5 in function calling) is a list that contains coordinates to wt_37-1_epat_5.txt. lst[0] will points to first corrdinate for first sequence in\u001b[0m\u001b[1;33m\u001b[0m\u001b[1;33m\u001b[0m\u001b[1;33m\u001b[0m\u001b[0m\n",
      "\u001b[1;31mIndexError\u001b[0m: list index out of range"
     ]
    }
   ],
   "source": [
    "pos_5 = [118]\n",
    "name = \"fasta/wt_37-1_epat_5.txt\"\n",
    "file_type = \"FP+UPSTREAM_3'UTR+BD+DOWNSTREAM_3'UTR\"\n",
    "counting(name,file_type)"
   ]
  },
  {
   "cell_type": "code",
   "execution_count": null,
   "metadata": {},
   "outputs": [],
   "source": []
  },
  {
   "cell_type": "code",
   "execution_count": null,
   "metadata": {},
   "outputs": [],
   "source": []
  },
  {
   "cell_type": "code",
   "execution_count": null,
   "metadata": {},
   "outputs": [],
   "source": []
  },
  {
   "cell_type": "code",
   "execution_count": null,
   "metadata": {},
   "outputs": [],
   "source": []
  },
  {
   "cell_type": "code",
   "execution_count": null,
   "metadata": {},
   "outputs": [],
   "source": []
  },
  {
   "cell_type": "code",
   "execution_count": null,
   "metadata": {},
   "outputs": [],
   "source": []
  },
  {
   "cell_type": "code",
   "execution_count": null,
   "metadata": {},
   "outputs": [],
   "source": []
  },
  {
   "cell_type": "code",
   "execution_count": null,
   "metadata": {},
   "outputs": [],
   "source": []
  },
  {
   "cell_type": "code",
   "execution_count": null,
   "metadata": {},
   "outputs": [],
   "source": []
  },
  {
   "cell_type": "code",
   "execution_count": null,
   "metadata": {},
   "outputs": [],
   "source": []
  },
  {
   "cell_type": "markdown",
   "metadata": {},
   "source": [
    "### Counting>=5 and No mismatches"
   ]
  },
  {
   "cell_type": "code",
   "execution_count": 3,
   "metadata": {},
   "outputs": [],
   "source": [
    "def counting_atleast_5(file_name,lst,file_type):\n",
    "    file2 = open(file_name,\"r\")\n",
    "    re1 = open(\"poly-A_atleast_5_wt_37-1_epat.txt\",\"a\")\n",
    "    j = 0\n",
    "    sq = ''\n",
    "    for line in file2:\n",
    "        line = line.split()\n",
    "        if line[0][0]==\">\":\n",
    "            header = line[0]\n",
    "            x = lst[j]\n",
    "            y = int(x)\n",
    "            j = j + 1\n",
    "\n",
    "        else:\n",
    "            s = line[0]\n",
    "\n",
    "            for i in range(len(line[0])): ## Loop through each character in the sequence\n",
    "                if i==y :                 ## If your character position in the sequence matches your coordinate value\n",
    "\n",
    "                    while( y < len(s) - 1) :\n",
    "                        count = 1\n",
    "                        start = y \n",
    "                        while s[y] == s[y + 1]==\"A\" : ## If found A after A then,\n",
    "                            sq = sq + s[y] ## Add A to seq variable\n",
    "                            y += 1         ## Increase y position i.e., to next character in a sequence\n",
    "                            count += 1\n",
    "                            if y + 1 == len(s): \n",
    "                                break\n",
    "                        if s[y]==\"A\" and count >=5: ## If count >=5\n",
    "                            print(count,header,start,y+1,end = \" \\n\")  ## Priting all the values\n",
    "                            re1.write(header)   ## Header\n",
    "                            re1.write(\" \")\n",
    "                            re1.write(file_type)    ## Category_name\n",
    "                            re1.write(\" \")\n",
    "                            re1.write(\"+\")          ## Positive strand\n",
    "                            re1.write(\" \")\n",
    "                            re1.write(str(count))   ## Poly_A length\n",
    "                            re1.write(\" \")\n",
    "                            re1.write(str(start))   ## Start position\n",
    "                            re1.write(\" \")\n",
    "                            re1.write(str(y+1))     ## ENd position\n",
    "                            re1.write(\" \")\n",
    "                            re1.write(\"\\n\")\n",
    "                            sq = ''\n",
    "                        y = y + 1    ## After one poly-A, go to next character to look for another possible poly-A\n",
    "    return 0\n",
    "            "
   ]
  },
  {
   "cell_type": "code",
   "execution_count": 4,
   "metadata": {},
   "outputs": [
    {
     "name": "stdout",
     "output_type": "stream",
     "text": [
      "27 >M03997:68:000000000-G35DK:1:2102:14231:7572_Test_1 118 145 \n",
      "5 >M03997:68:000000000-G35DK:1:2102:14231:7572_Test_1 175 180 \n",
      "29 >M03997:68:000000000-G35DK:1:2102:14231:7572_Test_2 118 147 \n",
      "5 >M03997:68:000000000-G35DK:1:2102:14231:7572_Test_2 174 179 \n",
      "27 >M03997:68:000000000-G35DK:1:2102:14231:7572_Test_3 118 145 \n",
      "5 >M03997:68:000000000-G35DK:1:2102:14231:7572_Test_3 176 181 \n",
      "20 >M03997:68:000000000-G35DK:1:2102:14231:7572_Test_4 118 138 \n",
      "7 >M03997:68:000000000-G35DK:1:2102:14231:7572_Test_4 139 146 \n",
      "5 >M03997:68:000000000-G35DK:1:2102:14231:7572_Test_4 176 181 \n",
      "27 >M03997:68:000000000-G35DK:1:2102:14231:7572_Test_5 118 145 \n",
      "5 >M03997:68:000000000-G35DK:1:2102:14231:7572_Test_5 175 180 \n",
      "27 >M03997:68:000000000-G35DK:1:2102:14231:7572_Test_6 118 145 \n",
      "5 >M03997:68:000000000-G35DK:1:2102:14231:7572_Test_6 176 181 \n",
      "27 >M03997:68:000000000-G35DK:1:2102:14231:7572_Test_7 118 145 \n",
      "5 >M03997:68:000000000-G35DK:1:2102:14231:7572_Test_7 177 182 \n"
     ]
    },
    {
     "ename": "IndexError",
     "evalue": "list index out of range",
     "output_type": "error",
     "traceback": [
      "\u001b[1;31m---------------------------------------------------------------------------\u001b[0m",
      "\u001b[1;31mIndexError\u001b[0m                                Traceback (most recent call last)",
      "\u001b[1;32m<ipython-input-4-2d5dac75d278>\u001b[0m in \u001b[0;36m<module>\u001b[1;34m\u001b[0m\n\u001b[0;32m      2\u001b[0m \u001b[0mname\u001b[0m \u001b[1;33m=\u001b[0m \u001b[1;34m\"fasta/wt_37-1_epat_5.txt\"\u001b[0m\u001b[1;33m\u001b[0m\u001b[1;33m\u001b[0m\u001b[0m\n\u001b[0;32m      3\u001b[0m \u001b[0mfile_type\u001b[0m \u001b[1;33m=\u001b[0m \u001b[1;34m\"FP+UPSTREAM_3'UTR+BD+DOWNSTREAM_3'UTR\"\u001b[0m\u001b[1;33m\u001b[0m\u001b[1;33m\u001b[0m\u001b[0m\n\u001b[1;32m----> 4\u001b[1;33m \u001b[0mcounting_atleast_5\u001b[0m\u001b[1;33m(\u001b[0m\u001b[0mname\u001b[0m\u001b[1;33m,\u001b[0m\u001b[0mpos_5\u001b[0m\u001b[1;33m,\u001b[0m\u001b[0mfile_type\u001b[0m\u001b[1;33m)\u001b[0m\u001b[1;33m\u001b[0m\u001b[1;33m\u001b[0m\u001b[0m\n\u001b[0m",
      "\u001b[1;32m<ipython-input-3-09b710ca4d38>\u001b[0m in \u001b[0;36mcounting_atleast_5\u001b[1;34m(file_name, lst, file_type)\u001b[0m\n\u001b[0;32m      6\u001b[0m     \u001b[1;32mfor\u001b[0m \u001b[0mline\u001b[0m \u001b[1;32min\u001b[0m \u001b[0mfile2\u001b[0m\u001b[1;33m:\u001b[0m\u001b[1;33m\u001b[0m\u001b[1;33m\u001b[0m\u001b[0m\n\u001b[0;32m      7\u001b[0m         \u001b[0mline\u001b[0m \u001b[1;33m=\u001b[0m \u001b[0mline\u001b[0m\u001b[1;33m.\u001b[0m\u001b[0msplit\u001b[0m\u001b[1;33m(\u001b[0m\u001b[1;33m)\u001b[0m\u001b[1;33m\u001b[0m\u001b[1;33m\u001b[0m\u001b[0m\n\u001b[1;32m----> 8\u001b[1;33m         \u001b[1;32mif\u001b[0m \u001b[0mline\u001b[0m\u001b[1;33m[\u001b[0m\u001b[1;36m0\u001b[0m\u001b[1;33m]\u001b[0m\u001b[1;33m[\u001b[0m\u001b[1;36m0\u001b[0m\u001b[1;33m]\u001b[0m\u001b[1;33m==\u001b[0m\u001b[1;34m\">\"\u001b[0m\u001b[1;33m:\u001b[0m\u001b[1;33m\u001b[0m\u001b[1;33m\u001b[0m\u001b[0m\n\u001b[0m\u001b[0;32m      9\u001b[0m             \u001b[0mheader\u001b[0m \u001b[1;33m=\u001b[0m \u001b[0mline\u001b[0m\u001b[1;33m[\u001b[0m\u001b[1;36m0\u001b[0m\u001b[1;33m]\u001b[0m\u001b[1;33m\u001b[0m\u001b[1;33m\u001b[0m\u001b[0m\n\u001b[0;32m     10\u001b[0m             \u001b[0mx\u001b[0m \u001b[1;33m=\u001b[0m \u001b[0mlst\u001b[0m\u001b[1;33m[\u001b[0m\u001b[0mj\u001b[0m\u001b[1;33m]\u001b[0m\u001b[1;33m\u001b[0m\u001b[1;33m\u001b[0m\u001b[0m\n",
      "\u001b[1;31mIndexError\u001b[0m: list index out of range"
     ]
    }
   ],
   "source": [
    "pos_5 = [118,118,118,118,118,118,118,118]\n",
    "name = \"fasta/wt_37-1_epat_5.txt\"\n",
    "file_type = \"FP+UPSTREAM_3'UTR+BD+DOWNSTREAM_3'UTR\"\n",
    "counting_atleast_5(name,pos_5,file_type)"
   ]
  },
  {
   "cell_type": "code",
   "execution_count": null,
   "metadata": {},
   "outputs": [],
   "source": []
  },
  {
   "cell_type": "code",
   "execution_count": null,
   "metadata": {},
   "outputs": [],
   "source": []
  },
  {
   "cell_type": "code",
   "execution_count": null,
   "metadata": {},
   "outputs": [],
   "source": []
  }
 ],
 "metadata": {
  "kernelspec": {
   "display_name": "Python 3",
   "language": "python",
   "name": "python3"
  },
  "language_info": {
   "codemirror_mode": {
    "name": "ipython",
    "version": 3
   },
   "file_extension": ".py",
   "mimetype": "text/x-python",
   "name": "python",
   "nbconvert_exporter": "python",
   "pygments_lexer": "ipython3",
   "version": "3.7.6"
  }
 },
 "nbformat": 4,
 "nbformat_minor": 4
}
